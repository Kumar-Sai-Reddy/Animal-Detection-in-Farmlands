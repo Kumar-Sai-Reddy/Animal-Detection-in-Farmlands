{
  "cells": [
    {
      "cell_type": "code",
      "execution_count": null,
      "metadata": {
        "id": "pYrzHCA48JJO"
      },
      "outputs": [],
      "source": [
        "import numpy as np\n",
        "import time\n",
        "import cv2\n",
        "import os\n",
        "from playsound import playsound"
      ]
    },
    {
      "cell_type": "code",
      "execution_count": null,
      "metadata": {
        "id": "DMF2rseo8JJT"
      },
      "outputs": [],
      "source": [
        "args = {\"confidence\":0.5, \"threshold\":0.8}"
      ]
    },
    {
      "cell_type": "code",
      "execution_count": null,
      "metadata": {
        "id": "GVLLjl4U8JJU"
      },
      "outputs": [],
      "source": [
        "playsound('alarm.wav')"
      ]
    },
    {
      "cell_type": "code",
      "execution_count": null,
      "metadata": {
        "id": "b9DyuYRl8JJY"
      },
      "outputs": [],
      "source": [
        "np.random.seed(42)\n",
        "COLORS = np.random.randint(0, 255, size=(len(LABELS), 3),\n",
        "\tdtype=\"uint8\")"
      ]
    },
    {
      "cell_type": "code",
      "execution_count": null,
      "metadata": {
        "id": "y5Nq-A2U8JJZ"
      },
      "outputs": [],
      "source": [
        "weightsPath = os.path.abspath(\"./yolo-coco/yolov8.weights\")\n",
        "configPath = os.path.abspath(\"./yolo-coco/yolov8.cfg\")\n",
        "\n",
        "print(configPath, \"\\n\", weightsPath)"
      ]
    },
    {
      "cell_type": "code",
      "execution_count": null,
      "metadata": {
        "id": "IUjEajvI8JJZ"
      },
      "outputs": [],
      "source": [
        "net = cv2.dnn.readNetFromDarknet(configPath, weightsPath)\n",
        "ln = net.getLayerNames()\n",
        "# print(net.getUnconnectedOutLayers())\n",
        "ln = [ln[i[0] - 1] for i in net.getUnconnectedOutLayers()]\n",
        "print(ln)"
      ]
    },
    {
      "cell_type": "code",
      "execution_count": null,
      "metadata": {
        "id": "Gj5W-veC8JJa"
      },
      "outputs": [],
      "source": [
        "final_classes = ['bird', 'cat', 'dog', 'sheep', 'horse', 'cow', 'elephant', 'zebra', 'bear']"
      ]
    },
    {
      "cell_type": "code",
      "execution_count": null,
      "metadata": {
        "id": "_ALSbAmI8JJb"
      },
      "outputs": [],
      "source": [
        "vs = cv2.VideoCapture(0)\n",
        "writer = None\n",
        "(W, H) = (None, None)\n",
        "\n",
        "\n",
        "while True:\n",
        "    # read the next frame from the file\n",
        "    (grabbed, frame) = vs.read()\n",
        "\n",
        "    # if the frame was not grabbed, then we have reached the end\n",
        "    # of the stream\n",
        "    if not grabbed:\n",
        "        break\n",
        "\n",
        "    # if the frame dimensions are empty, grab them\n",
        "    if W is None or H is None:\n",
        "        (H, W) = frame.shape[:2]\n",
        "\n",
        "    blob = cv2.dnn.blobFromImage(frame, 1 / 255.0, (416, 416),\n",
        "        swapRB=True, crop=False)\n",
        "    net.setInput(blob)\n",
        "    start = time.time()\n",
        "    layerOutputs = net.forward(ln)\n",
        "    end = time.time()\n",
        "\n",
        "    # initialize our lists of detected bounding boxes, confidences,\n",
        "    # and class IDs, respectively\n",
        "    boxes = []\n",
        "    confidences = []\n",
        "    classIDs = []\n",
        "\n",
        "    # loop over each of the layer outputs\n",
        "    for output in layerOutputs:\n",
        "        # loop over each of the detections\n",
        "        for detection in output:\n",
        "            # extract the class ID and confidence (i.e., probability)\n",
        "            # of the current object detection\n",
        "            scores = detection[5:]\n",
        "            classID = np.argmax(scores)\n",
        "            confidence = scores[classID]\n",
        "\n",
        "            # filter out weak predictions by ensuring the detected\n",
        "            # probability is greater than the minimum probability\n",
        "            if confidence > args[\"confidence\"]:\n",
        "                # scale the bounding box coordinates back relative to\n",
        "                # the size of the image, keeping in mind that YOLO\n",
        "                # actually returns the center (x, y)-coordinates of\n",
        "                # the bounding box followed by the boxes' width and\n",
        "                # height\n",
        "                box = detection[0:4] * np.array([W, H, W, H])\n",
        "                (centerX, centerY, width, height) = box.astype(\"int\")\n",
        "\n",
        "                # use the center (x, y)-coordinates to derive the top\n",
        "                # and and left corner of the bounding box\n",
        "                x = int(centerX - (width / 2))\n",
        "                y = int(centerY - (height / 2))\n",
        "\n",
        "                # update our list of bounding box coordinates,\n",
        "                # confidences, and class IDs\n",
        "                boxes.append([x, y, int(width), int(height)])\n",
        "                confidences.append(float(confidence))\n",
        "                classIDs.append(classID)\n",
        "\n",
        "    # apply non-maxima suppression to suppress weak, overlapping\n",
        "    # bounding boxes\n",
        "    idxs = cv2.dnn.NMSBoxes(boxes, confidences, args[\"confidence\"],\n",
        "        args[\"threshold\"])\n",
        "\n",
        "    # ensure at least one detection exists\n",
        "    if len(idxs) > 0:\n",
        "        # loop over the indexes we are keeping\n",
        "        for i in idxs.flatten():\n",
        "            # extract the bounding box coordinates\n",
        "            (x, y) = (boxes[i][0], boxes[i][1])\n",
        "            (w, h) = (boxes[i][2], boxes[i][3])\n",
        "\n",
        "            if(LABELS[classIDs[i]] in final_classes):\n",
        "                # draw a bounding box rectangle and label on the frame\n",
        "                # playsound('alarm.wav')\n",
        "                color = [int(c) for c in COLORS[classIDs[i]]]\n",
        "                cv2.rectangle(frame, (x, y), (x + w, y + h), color, 2)\n",
        "                text = \"{}: {:.4f}\".format(LABELS[classIDs[i]],\n",
        "                    confidences[i])\n",
        "                cv2.putText(frame, text, (x, y - 5),\n",
        "                    cv2.FONT_HERSHEY_SIMPLEX, 0.5, color, 2)\n",
        "\n",
        "    cv2.imshow(\"Output\", frame)\n",
        "\n",
        "    if cv2.waitKey(1) == ord('q'):\n",
        "        break\n",
        "\n",
        "# release the webcam and destroy all active windows\n",
        "vs.release()\n",
        "cv2.destroyAllWindows()\n",
        "\n",
        "    # # check if the video writer is None\n",
        "    # if writer is None:\n",
        "    #     # initialize our video writer\n",
        "    #     fourcc = cv2.VideoWriter_fourcc(*\"MJPG\")\n",
        "    #     writer = cv2.VideoWriter(args[\"output\"], fourcc, 30,\n",
        "    #         (frame.shape[1], frame.shape[0]), True)\n",
        "\n",
        "    # # write the output frame to disk\n",
        "    # writer.write(frame)\n"
      ]
    },
    {
      "cell_type": "code",
      "execution_count": null,
      "metadata": {
        "id": "Iyilchyg8JJd"
      },
      "outputs": [],
      "source": [
        "vs.release()\n",
        "cv2.destroyAllWindows()"
      ]
    },
    {
      "cell_type": "code",
      "execution_count": null,
      "metadata": {
        "id": "87O7Vl8Y8JJe"
      },
      "outputs": [],
      "source": [
        "import smtplib\n",
        "import imghdr\n",
        "from email.message import EmailMessage\n",
        "\n",
        "\n",
        "Sender_Email = \"@gmail.com\"\n",
        "Reciever_Email = \"@gmail.com\"\n",
        "# Password = input('Enter your email account password: ')\n",
        "Password = ''\n",
        "\n",
        "newMessage = EmailMessage()    #creating an object of EmailMessage class\n",
        "newMessage['Subject'] = \"Test Email from CodeItBro\" #Defining email subject\n",
        "newMessage['From'] = Sender_Email  #Defining sender email\n",
        "newMessage['To'] = Reciever_Email  #Defining reciever email\n",
        "newMessage.set_content('Hi, hope you are doing fine! Stay Home! Stay Safe!') #Defining email body\n",
        "\n",
        "with open('cat.png', 'rb') as f:\n",
        "    image_data = f.read()\n",
        "    image_type = imghdr.what(f.name)\n",
        "    image_name = f.name\n",
        "\n",
        "newMessage.add_attachment(image_data, maintype='image', subtype=image_type, filename=image_name)\n",
        "\n",
        "\n",
        "with smtplib.SMTP_SSL('smtp.gmail.com', 465) as smtp:\n",
        "\n",
        "    smtp.login(Sender_Email, Password) #Login to SMTP server\n",
        "    smtp.send_message(newMessage)      #Sending email using send_message method by passing EmailMessage object\n"
      ]
    },
    {
      "cell_type": "code",
      "execution_count": null,
      "metadata": {
        "id": "v_YK3JbM8JJf"
      },
      "outputs": [],
      "source": [
        "with open('cat.png', 'rb') as f:\n",
        "    image_data = f.read()"
      ]
    }
  ],
  "metadata": {
    "interpreter": {
      "hash": "04edf71aa90feda7d83661311903b5d99405ed4c425d6368e5339cee55dca3bb"
    },
    "kernelspec": {
      "display_name": "Python 3.7.0 ('capstone')",
      "language": "python",
      "name": "python3"
    },
    "language_info": {
      "codemirror_mode": {
        "name": "ipython",
        "version": 3
      },
      "file_extension": ".py",
      "mimetype": "text/x-python",
      "name": "python",
      "nbconvert_exporter": "python",
      "pygments_lexer": "ipython3",
      "version": "3.7.0"
    },
    "orig_nbformat": 4,
    "colab": {
      "provenance": []
    }
  },
  "nbformat": 4,
  "nbformat_minor": 0
}